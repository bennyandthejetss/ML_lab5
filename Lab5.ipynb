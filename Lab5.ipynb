{
 "cells": [
  {
   "cell_type": "markdown",
   "id": "3bdce5dd-0605-48e0-8fe2-7ecf132dd788",
   "metadata": {
    "tags": []
   },
   "source": [
    "# Lab Assignment Five: Wide and Deep Network Architectures"
   ]
  },
  {
   "cell_type": "markdown",
   "id": "42e5c8c0-e066-4b82-878f-5f2fc5e478e8",
   "metadata": {},
   "source": [
    "Group: Benjamin Kuo, Nicholas Benso\n",
    "\n",
    "## Dataset Selection\n",
    "\n",
    "Select a dataset similarly to lab one. That is, the dataset must be table data. In terms of generalization performance, it is helpful to have a large dataset for building a wide and deep network. It is also helpful to have many different categorical features to create the embeddings and cross-product embeddings. It is fine to perform binary classification, multi-class classification, or regression.\n"
   ]
  },
  {
   "cell_type": "markdown",
   "id": "64735599-9955-4fdf-933b-796a1bccd2cf",
   "metadata": {},
   "source": [
    "## Preparation (4 points total)\n",
    "[1 points] Define and prepare your class variables. Use proper variable representations (int, float, one-hot, etc.). Use pre-processing methods (as needed) for dimensionality reduction, scaling, etc. Remove variables that are not needed/useful for the analysis. Describe the final dataset that is used for classification/regression (include a description of any newly formed variables you created). \n",
    "\n",
    "[1 points] Identify groups of features in your data that should be combined into cross-product features. Provide justification for why these features should be crossed (or why some features should not be crossed). \n",
    "\n",
    "[1 points] Choose and explain what metric(s) you will use to evaluate your algorithm’s performance. You should give a detailed argument for why this (these) metric(s) are appropriate on your data. That is, why is the metric appropriate for the task (e.g., in terms of the business case for the task). Please note: rarely is accuracy the best evaluation metric to use. Think deeply about an appropriate measure of performance.\n",
    "\n",
    "[1 points] Choose the method you will use for dividing your data into training and testing (i.e., are you using Stratified 10-fold cross validation? Shuffle splits? Why?). Explain why your chosen method is appropriate or use more than one method as appropriate. Argue why your cross validation method is a realistic mirroring of how an algorithm would be used in practice. \n"
   ]
  },
  {
   "cell_type": "code",
   "execution_count": 2,
   "id": "db716631-0fec-4f39-8041-c681aca38171",
   "metadata": {
    "tags": []
   },
   "outputs": [
    {
     "name": "stdout",
     "output_type": "stream",
     "text": [
      "C:\\Users\\nicho\\ML_Lab5\n"
     ]
    }
   ],
   "source": [
    "import os\n",
    "current_dir = os.getcwd()\n",
    "print(current_dir) "
   ]
  },
  {
   "cell_type": "code",
   "execution_count": 3,
   "id": "fa7bb321-c2bf-4070-8d06-940e537775a1",
   "metadata": {
    "tags": []
   },
   "outputs": [
    {
     "name": "stdout",
     "output_type": "stream",
     "text": [
      "<class 'pandas.core.frame.DataFrame'>\n",
      "RangeIndex: 10127 entries, 0 to 10126\n",
      "Data columns (total 23 columns):\n",
      " #   Column                                                                                                                              Non-Null Count  Dtype  \n",
      "---  ------                                                                                                                              --------------  -----  \n",
      " 0   CLIENTNUM                                                                                                                           10127 non-null  int64  \n",
      " 1   Attrition_Flag                                                                                                                      10127 non-null  object \n",
      " 2   Customer_Age                                                                                                                        10127 non-null  int64  \n",
      " 3   Gender                                                                                                                              10127 non-null  object \n",
      " 4   Dependent_count                                                                                                                     10127 non-null  int64  \n",
      " 5   Education_Level                                                                                                                     10127 non-null  object \n",
      " 6   Marital_Status                                                                                                                      10127 non-null  object \n",
      " 7   Income_Category                                                                                                                     10127 non-null  object \n",
      " 8   Card_Category                                                                                                                       10127 non-null  object \n",
      " 9   Months_on_book                                                                                                                      10127 non-null  int64  \n",
      " 10  Total_Relationship_Count                                                                                                            10127 non-null  int64  \n",
      " 11  Months_Inactive_12_mon                                                                                                              10127 non-null  int64  \n",
      " 12  Contacts_Count_12_mon                                                                                                               10127 non-null  int64  \n",
      " 13  Credit_Limit                                                                                                                        10127 non-null  float64\n",
      " 14  Total_Revolving_Bal                                                                                                                 10127 non-null  int64  \n",
      " 15  Avg_Open_To_Buy                                                                                                                     10127 non-null  float64\n",
      " 16  Total_Amt_Chng_Q4_Q1                                                                                                                10127 non-null  float64\n",
      " 17  Total_Trans_Amt                                                                                                                     10127 non-null  int64  \n",
      " 18  Total_Trans_Ct                                                                                                                      10127 non-null  int64  \n",
      " 19  Total_Ct_Chng_Q4_Q1                                                                                                                 10127 non-null  float64\n",
      " 20  Avg_Utilization_Ratio                                                                                                               10127 non-null  float64\n",
      " 21  Naive_Bayes_Classifier_Attrition_Flag_Card_Category_Contacts_Count_12_mon_Dependent_count_Education_Level_Months_Inactive_12_mon_1  10127 non-null  float64\n",
      " 22  Naive_Bayes_Classifier_Attrition_Flag_Card_Category_Contacts_Count_12_mon_Dependent_count_Education_Level_Months_Inactive_12_mon_2  10127 non-null  float64\n",
      "dtypes: float64(7), int64(10), object(6)\n",
      "memory usage: 1.8+ MB\n"
     ]
    },
    {
     "data": {
      "text/html": [
       "<div>\n",
       "<style scoped>\n",
       "    .dataframe tbody tr th:only-of-type {\n",
       "        vertical-align: middle;\n",
       "    }\n",
       "\n",
       "    .dataframe tbody tr th {\n",
       "        vertical-align: top;\n",
       "    }\n",
       "\n",
       "    .dataframe thead th {\n",
       "        text-align: right;\n",
       "    }\n",
       "</style>\n",
       "<table border=\"1\" class=\"dataframe\">\n",
       "  <thead>\n",
       "    <tr style=\"text-align: right;\">\n",
       "      <th></th>\n",
       "      <th>CLIENTNUM</th>\n",
       "      <th>Customer_Age</th>\n",
       "      <th>Dependent_count</th>\n",
       "      <th>Months_on_book</th>\n",
       "      <th>Total_Relationship_Count</th>\n",
       "      <th>Months_Inactive_12_mon</th>\n",
       "      <th>Contacts_Count_12_mon</th>\n",
       "      <th>Credit_Limit</th>\n",
       "      <th>Total_Revolving_Bal</th>\n",
       "      <th>Avg_Open_To_Buy</th>\n",
       "      <th>Total_Amt_Chng_Q4_Q1</th>\n",
       "      <th>Total_Trans_Amt</th>\n",
       "      <th>Total_Trans_Ct</th>\n",
       "      <th>Total_Ct_Chng_Q4_Q1</th>\n",
       "      <th>Avg_Utilization_Ratio</th>\n",
       "      <th>Naive_Bayes_Classifier_Attrition_Flag_Card_Category_Contacts_Count_12_mon_Dependent_count_Education_Level_Months_Inactive_12_mon_1</th>\n",
       "      <th>Naive_Bayes_Classifier_Attrition_Flag_Card_Category_Contacts_Count_12_mon_Dependent_count_Education_Level_Months_Inactive_12_mon_2</th>\n",
       "    </tr>\n",
       "  </thead>\n",
       "  <tbody>\n",
       "    <tr>\n",
       "      <th>count</th>\n",
       "      <td>1.012700e+04</td>\n",
       "      <td>10127.000000</td>\n",
       "      <td>10127.000000</td>\n",
       "      <td>10127.000000</td>\n",
       "      <td>10127.000000</td>\n",
       "      <td>10127.000000</td>\n",
       "      <td>10127.000000</td>\n",
       "      <td>10127.000000</td>\n",
       "      <td>10127.000000</td>\n",
       "      <td>10127.000000</td>\n",
       "      <td>10127.000000</td>\n",
       "      <td>10127.000000</td>\n",
       "      <td>10127.000000</td>\n",
       "      <td>10127.000000</td>\n",
       "      <td>10127.000000</td>\n",
       "      <td>10127.000000</td>\n",
       "      <td>10127.000000</td>\n",
       "    </tr>\n",
       "    <tr>\n",
       "      <th>mean</th>\n",
       "      <td>7.391776e+08</td>\n",
       "      <td>46.325960</td>\n",
       "      <td>2.346203</td>\n",
       "      <td>35.928409</td>\n",
       "      <td>3.812580</td>\n",
       "      <td>2.341167</td>\n",
       "      <td>2.455317</td>\n",
       "      <td>8631.953698</td>\n",
       "      <td>1162.814061</td>\n",
       "      <td>7469.139637</td>\n",
       "      <td>0.759941</td>\n",
       "      <td>4404.086304</td>\n",
       "      <td>64.858695</td>\n",
       "      <td>0.712222</td>\n",
       "      <td>0.274894</td>\n",
       "      <td>0.159997</td>\n",
       "      <td>0.840003</td>\n",
       "    </tr>\n",
       "    <tr>\n",
       "      <th>std</th>\n",
       "      <td>3.690378e+07</td>\n",
       "      <td>8.016814</td>\n",
       "      <td>1.298908</td>\n",
       "      <td>7.986416</td>\n",
       "      <td>1.554408</td>\n",
       "      <td>1.010622</td>\n",
       "      <td>1.106225</td>\n",
       "      <td>9088.776650</td>\n",
       "      <td>814.987335</td>\n",
       "      <td>9090.685324</td>\n",
       "      <td>0.219207</td>\n",
       "      <td>3397.129254</td>\n",
       "      <td>23.472570</td>\n",
       "      <td>0.238086</td>\n",
       "      <td>0.275691</td>\n",
       "      <td>0.365301</td>\n",
       "      <td>0.365301</td>\n",
       "    </tr>\n",
       "    <tr>\n",
       "      <th>min</th>\n",
       "      <td>7.080821e+08</td>\n",
       "      <td>26.000000</td>\n",
       "      <td>0.000000</td>\n",
       "      <td>13.000000</td>\n",
       "      <td>1.000000</td>\n",
       "      <td>0.000000</td>\n",
       "      <td>0.000000</td>\n",
       "      <td>1438.300000</td>\n",
       "      <td>0.000000</td>\n",
       "      <td>3.000000</td>\n",
       "      <td>0.000000</td>\n",
       "      <td>510.000000</td>\n",
       "      <td>10.000000</td>\n",
       "      <td>0.000000</td>\n",
       "      <td>0.000000</td>\n",
       "      <td>0.000008</td>\n",
       "      <td>0.000420</td>\n",
       "    </tr>\n",
       "    <tr>\n",
       "      <th>25%</th>\n",
       "      <td>7.130368e+08</td>\n",
       "      <td>41.000000</td>\n",
       "      <td>1.000000</td>\n",
       "      <td>31.000000</td>\n",
       "      <td>3.000000</td>\n",
       "      <td>2.000000</td>\n",
       "      <td>2.000000</td>\n",
       "      <td>2555.000000</td>\n",
       "      <td>359.000000</td>\n",
       "      <td>1324.500000</td>\n",
       "      <td>0.631000</td>\n",
       "      <td>2155.500000</td>\n",
       "      <td>45.000000</td>\n",
       "      <td>0.582000</td>\n",
       "      <td>0.023000</td>\n",
       "      <td>0.000099</td>\n",
       "      <td>0.999660</td>\n",
       "    </tr>\n",
       "    <tr>\n",
       "      <th>50%</th>\n",
       "      <td>7.179264e+08</td>\n",
       "      <td>46.000000</td>\n",
       "      <td>2.000000</td>\n",
       "      <td>36.000000</td>\n",
       "      <td>4.000000</td>\n",
       "      <td>2.000000</td>\n",
       "      <td>2.000000</td>\n",
       "      <td>4549.000000</td>\n",
       "      <td>1276.000000</td>\n",
       "      <td>3474.000000</td>\n",
       "      <td>0.736000</td>\n",
       "      <td>3899.000000</td>\n",
       "      <td>67.000000</td>\n",
       "      <td>0.702000</td>\n",
       "      <td>0.176000</td>\n",
       "      <td>0.000181</td>\n",
       "      <td>0.999820</td>\n",
       "    </tr>\n",
       "    <tr>\n",
       "      <th>75%</th>\n",
       "      <td>7.731435e+08</td>\n",
       "      <td>52.000000</td>\n",
       "      <td>3.000000</td>\n",
       "      <td>40.000000</td>\n",
       "      <td>5.000000</td>\n",
       "      <td>3.000000</td>\n",
       "      <td>3.000000</td>\n",
       "      <td>11067.500000</td>\n",
       "      <td>1784.000000</td>\n",
       "      <td>9859.000000</td>\n",
       "      <td>0.859000</td>\n",
       "      <td>4741.000000</td>\n",
       "      <td>81.000000</td>\n",
       "      <td>0.818000</td>\n",
       "      <td>0.503000</td>\n",
       "      <td>0.000337</td>\n",
       "      <td>0.999900</td>\n",
       "    </tr>\n",
       "    <tr>\n",
       "      <th>max</th>\n",
       "      <td>8.283431e+08</td>\n",
       "      <td>73.000000</td>\n",
       "      <td>5.000000</td>\n",
       "      <td>56.000000</td>\n",
       "      <td>6.000000</td>\n",
       "      <td>6.000000</td>\n",
       "      <td>6.000000</td>\n",
       "      <td>34516.000000</td>\n",
       "      <td>2517.000000</td>\n",
       "      <td>34516.000000</td>\n",
       "      <td>3.397000</td>\n",
       "      <td>18484.000000</td>\n",
       "      <td>139.000000</td>\n",
       "      <td>3.714000</td>\n",
       "      <td>0.999000</td>\n",
       "      <td>0.999580</td>\n",
       "      <td>0.999990</td>\n",
       "    </tr>\n",
       "  </tbody>\n",
       "</table>\n",
       "</div>"
      ],
      "text/plain": [
       "          CLIENTNUM  Customer_Age  Dependent_count  Months_on_book  \\\n",
       "count  1.012700e+04  10127.000000     10127.000000    10127.000000   \n",
       "mean   7.391776e+08     46.325960         2.346203       35.928409   \n",
       "std    3.690378e+07      8.016814         1.298908        7.986416   \n",
       "min    7.080821e+08     26.000000         0.000000       13.000000   \n",
       "25%    7.130368e+08     41.000000         1.000000       31.000000   \n",
       "50%    7.179264e+08     46.000000         2.000000       36.000000   \n",
       "75%    7.731435e+08     52.000000         3.000000       40.000000   \n",
       "max    8.283431e+08     73.000000         5.000000       56.000000   \n",
       "\n",
       "       Total_Relationship_Count  Months_Inactive_12_mon  \\\n",
       "count              10127.000000            10127.000000   \n",
       "mean                   3.812580                2.341167   \n",
       "std                    1.554408                1.010622   \n",
       "min                    1.000000                0.000000   \n",
       "25%                    3.000000                2.000000   \n",
       "50%                    4.000000                2.000000   \n",
       "75%                    5.000000                3.000000   \n",
       "max                    6.000000                6.000000   \n",
       "\n",
       "       Contacts_Count_12_mon  Credit_Limit  Total_Revolving_Bal  \\\n",
       "count           10127.000000  10127.000000         10127.000000   \n",
       "mean                2.455317   8631.953698          1162.814061   \n",
       "std                 1.106225   9088.776650           814.987335   \n",
       "min                 0.000000   1438.300000             0.000000   \n",
       "25%                 2.000000   2555.000000           359.000000   \n",
       "50%                 2.000000   4549.000000          1276.000000   \n",
       "75%                 3.000000  11067.500000          1784.000000   \n",
       "max                 6.000000  34516.000000          2517.000000   \n",
       "\n",
       "       Avg_Open_To_Buy  Total_Amt_Chng_Q4_Q1  Total_Trans_Amt  Total_Trans_Ct  \\\n",
       "count     10127.000000          10127.000000     10127.000000    10127.000000   \n",
       "mean       7469.139637              0.759941      4404.086304       64.858695   \n",
       "std        9090.685324              0.219207      3397.129254       23.472570   \n",
       "min           3.000000              0.000000       510.000000       10.000000   \n",
       "25%        1324.500000              0.631000      2155.500000       45.000000   \n",
       "50%        3474.000000              0.736000      3899.000000       67.000000   \n",
       "75%        9859.000000              0.859000      4741.000000       81.000000   \n",
       "max       34516.000000              3.397000     18484.000000      139.000000   \n",
       "\n",
       "       Total_Ct_Chng_Q4_Q1  Avg_Utilization_Ratio  \\\n",
       "count         10127.000000           10127.000000   \n",
       "mean              0.712222               0.274894   \n",
       "std               0.238086               0.275691   \n",
       "min               0.000000               0.000000   \n",
       "25%               0.582000               0.023000   \n",
       "50%               0.702000               0.176000   \n",
       "75%               0.818000               0.503000   \n",
       "max               3.714000               0.999000   \n",
       "\n",
       "       Naive_Bayes_Classifier_Attrition_Flag_Card_Category_Contacts_Count_12_mon_Dependent_count_Education_Level_Months_Inactive_12_mon_1  \\\n",
       "count                                       10127.000000                                                                                    \n",
       "mean                                            0.159997                                                                                    \n",
       "std                                             0.365301                                                                                    \n",
       "min                                             0.000008                                                                                    \n",
       "25%                                             0.000099                                                                                    \n",
       "50%                                             0.000181                                                                                    \n",
       "75%                                             0.000337                                                                                    \n",
       "max                                             0.999580                                                                                    \n",
       "\n",
       "       Naive_Bayes_Classifier_Attrition_Flag_Card_Category_Contacts_Count_12_mon_Dependent_count_Education_Level_Months_Inactive_12_mon_2  \n",
       "count                                       10127.000000                                                                                   \n",
       "mean                                            0.840003                                                                                   \n",
       "std                                             0.365301                                                                                   \n",
       "min                                             0.000420                                                                                   \n",
       "25%                                             0.999660                                                                                   \n",
       "50%                                             0.999820                                                                                   \n",
       "75%                                             0.999900                                                                                   \n",
       "max                                             0.999990                                                                                   "
      ]
     },
     "execution_count": 3,
     "metadata": {},
     "output_type": "execute_result"
    }
   ],
   "source": [
    "import pandas as pd\n",
    "import numpy as np\n",
    "import matplotlib.pyplot as plt\n",
    "from scipy.special import expit\n",
    "import sys\n",
    "\n",
    "\n",
    "# data - https://www.kaggle.com/datasets/sakshigoyal7/credit-card-customers\n",
    "\n",
    "df = pd.read_csv(current_dir + \"//BankChurners.csv\") # read in the csv file\n",
    "\n",
    "df.info()\n",
    "df.describe()"
   ]
  },
  {
   "cell_type": "code",
   "execution_count": 4,
   "id": "4062f10a-867e-4d25-a3c7-29d274fddfa8",
   "metadata": {
    "tags": []
   },
   "outputs": [],
   "source": [
    "del df['CLIENTNUM']\n",
    "del df['Naive_Bayes_Classifier_Attrition_Flag_Card_Category_Contacts_Count_12_mon_Dependent_count_Education_Level_Months_Inactive_12_mon_1']\n",
    "del df['Naive_Bayes_Classifier_Attrition_Flag_Card_Category_Contacts_Count_12_mon_Dependent_count_Education_Level_Months_Inactive_12_mon_2']"
   ]
  },
  {
   "cell_type": "code",
   "execution_count": 5,
   "id": "19f2526a-1daa-4ed8-b5cd-35ccc5143a19",
   "metadata": {
    "tags": []
   },
   "outputs": [],
   "source": [
    "from sklearn.model_selection import StratifiedKFold\n",
    "\n",
    "X = df.drop(columns=['Attrition_Flag'])\n",
    "y = df['Attrition_Flag']\n",
    "\n",
    "skf = StratifiedKFold(n_splits=10, shuffle=True, random_state=1)\n",
    "\n",
    "for train_index, test_index in skf.split(X, y):\n",
    "    X_train, X_test = X.iloc[train_index], X.iloc[test_index]\n",
    "    y_train, y_test = y.iloc[train_index], y.iloc[test_index]\n",
    "\n",
    "df_train = pd.concat([X_train, y_train], axis=1)\n",
    "df_test = pd.concat([X_test, y_test], axis=1)"
   ]
  },
  {
   "cell_type": "code",
   "execution_count": 6,
   "id": "76f12bb1-0945-4302-827d-513695cb9409",
   "metadata": {
    "tags": []
   },
   "outputs": [],
   "source": [
    "from sklearn.preprocessing import LabelEncoder\n",
    "from sklearn.preprocessing import StandardScaler\n",
    "\n",
    "encoders = dict()\n",
    "categorical_headers = ['Gender','Education_Level','Marital_Status','Income_Category','Card_Category']\n",
    "\n",
    "for col in categorical_headers+['Attrition_Flag']:\n",
    "    df_train[col] = df_train[col].str.strip()\n",
    "    df_test[col] = df_test[col].str.strip()\n",
    "    \n",
    "    if col==\"Attrition_Flag\":\n",
    "        # special case the target, just replace the column\n",
    "        tmp = LabelEncoder()\n",
    "        df_train[col] = tmp.fit_transform(df_train[col])\n",
    "        df_test[col] = tmp.transform(df_test[col])\n",
    "    else:\n",
    "        # integer encode strings that are features\n",
    "        encoders[col] = LabelEncoder() # save the encoder\n",
    "        df_train[col+'_int'] = encoders[col].fit_transform(df_train[col])\n",
    "        df_test[col+'_int'] = encoders[col].transform(df_test[col])\n",
    "\n",
    "\n",
    "numeric_headers = [\"Customer_Age\", \"Dependent_count\", \"Months_on_book\",\"Total_Relationship_Count\", \"Months_Inactive_12_mon\", \"Contacts_Count_12_mon\", \"Credit_Limit\", \"Total_Revolving_Bal\", \"Avg_Open_To_Buy\", \"Total_Amt_Chng_Q4_Q1\", \"Total_Trans_Amt\", \"Total_Trans_Ct\", \"Total_Ct_Chng_Q4_Q1\", \"Avg_Utilization_Ratio\"]\n",
    "\n",
    "ss = StandardScaler()\n",
    "df_train[numeric_headers] = ss.fit_transform(df_train[numeric_headers].values)\n",
    "df_test[numeric_headers] = ss.transform(df_test[numeric_headers].values)\n",
    "\n",
    "categorical_headers_ints = [x+'_int' for x in categorical_headers]\n",
    "feature_columns = categorical_headers_ints+numeric_headers\n",
    "\n",
    "X_train = df_train[feature_columns].to_numpy()\n",
    "X_test = df_test[feature_columns].to_numpy()\n",
    "\n",
    "y_train = df_train['Attrition_Flag'].values.astype(np.int32)\n",
    "y_test = df_test['Attrition_Flag'].values.astype(np.int32)"
   ]
  },
  {
   "cell_type": "markdown",
   "id": "fa2baa36-fb06-47ac-aedf-c7d69af543bb",
   "metadata": {},
   "source": [
    "## Modeling (5 points total)\n",
    "[2 points] Create at least three combined wide and deep networks to classify your data using Keras. Visualize the performance of the network on the training data and validation data in the same plot versus the training iterations. Note: use the \"history\" return parameter that is part of Keras \"fit\" function to easily access this data.\n",
    "\n",
    "[2 points] Investigate generalization performance by altering the number of layers in the deep branch of the network. Try at least two different number of layers. Use the method of cross validation and evaluation metric that you argued for at the beginning of the lab to select the number of layers that performs superiorly. \n",
    "\n",
    "[1 points] Compare the performance of your best wide and deep network to a standard multi-layer perceptron (MLP). Alternatively, you can compare to a network without the wide branch (i.e., just the deep network). .  \n"
   ]
  },
  {
   "cell_type": "markdown",
   "id": "6816b02a-b892-414c-bcb5-689c9fab6c42",
   "metadata": {},
   "source": [
    "## Deep and Wide Network #1"
   ]
  },
  {
   "cell_type": "code",
   "execution_count": 27,
   "id": "b28343f3-6a0f-4a09-af47-bc7a434a25eb",
   "metadata": {
    "tags": []
   },
   "outputs": [
    {
     "data": {
      "text/plain": [
       "['Education_Level_Income_Category', 'Gender_Marital_Status']"
      ]
     },
     "execution_count": 27,
     "metadata": {},
     "output_type": "execute_result"
    }
   ],
   "source": [
    "from sklearn import metrics as mt\n",
    "import tensorflow as tf\n",
    "from tensorflow import keras\n",
    "import os\n",
    "from tensorflow.keras.layers import Dense, Activation, Input\n",
    "from tensorflow.keras.models import Model\n",
    "from tensorflow.keras.layers import Embedding\n",
    "from tensorflow.keras.layers import concatenate\n",
    "\n",
    "cross_columns = [['Education_Level', 'Income_Category'],['Gender', 'Marital_Status']]\n",
    "\n",
    "# cross each set of columns in the list above\n",
    "cross_col_df_names = []\n",
    "for cols_list in cross_columns:\n",
    "    # encode as ints for the embedding\n",
    "    enc = LabelEncoder()\n",
    "    \n",
    "    # 1. create crossed labels by join operation\n",
    "    X_crossed_train = df_train[cols_list].apply(lambda x: '_'.join(x), axis=1)\n",
    "    X_crossed_test = df_test[cols_list].apply(lambda x: '_'.join(x), axis=1)\n",
    "    \n",
    "    # get a nice name for this new crossed column\n",
    "    cross_col_name = '_'.join(cols_list)\n",
    "    \n",
    "    # 2. encode as integers, stacking all possibilities\n",
    "    enc.fit(np.hstack((X_crossed_train.to_numpy(),  X_crossed_test.to_numpy())))\n",
    "    \n",
    "    # 3. Save into dataframe with new name\n",
    "    df_train[cross_col_name] = enc.transform(X_crossed_train)\n",
    "    df_test[cross_col_name] = enc.transform(X_crossed_test)\n",
    "    \n",
    "    # Save the encoder used here for later:\n",
    "    encoders[cross_col_name] = enc\n",
    "    \n",
    "    # keep track of the new names of the crossed columns\n",
    "    cross_col_df_names.append(cross_col_name) \n",
    "    \n",
    "cross_col_df_names"
   ]
  },
  {
   "cell_type": "code",
   "execution_count": 28,
   "id": "6911d9a7-3892-47c4-944f-e3ba8b6f8b9c",
   "metadata": {
    "tags": []
   },
   "outputs": [],
   "source": [
    "# get crossed columns\n",
    "X_train_crossed = df_train[cross_col_df_names].to_numpy()\n",
    "X_test_crossed = df_test[cross_col_df_names].to_numpy()\n",
    "\n",
    "# save categorical features\n",
    "X_train_cat = df_train[categorical_headers_ints].to_numpy() \n",
    "X_test_cat = df_test[categorical_headers_ints].to_numpy() \n",
    "\n",
    "# and save off the numeric features\n",
    "X_train_num =  df_train[numeric_headers].to_numpy()\n",
    "X_test_num = df_test[numeric_headers].to_numpy()\n",
    "\n",
    "\n",
    "# we need to create separate lists for each branch\n",
    "crossed_outputs = []\n",
    "\n",
    "# CROSSED DATA INPUT\n",
    "input_crossed = Input(shape=(X_train_crossed.shape[1],), dtype='int64', name='wide_inputs')\n",
    "for idx,col in enumerate(cross_col_df_names):\n",
    "    \n",
    "    # track what the maximum integer value will be for this variable\n",
    "    # which is the same as the number of categories\n",
    "    N = max(df_train[col].max(),df_test[col].max())+1\n",
    "    N = len(encoders[col].classes_)\n",
    "    N_reduced = int(np.sqrt(N))\n",
    "    \n",
    "    \n",
    "    # this line of code does this: input_branch[:,idx]\n",
    "    x = tf.gather(input_crossed, idx, axis=1)\n",
    "    \n",
    "    # now use an embedding to deal with integers as if they were one hot encoded\n",
    "    x = Embedding(input_dim=N, \n",
    "                  output_dim=N_reduced, \n",
    "                  input_length=1, name=col+'_embed')(x)\n",
    "    \n",
    "    # save these outputs to concatenate later\n",
    "    crossed_outputs.append(x)\n",
    "    \n",
    "\n",
    "# now concatenate the outputs and add a fully connected layer\n",
    "wide_branch = concatenate(crossed_outputs, name='wide_concat')\n",
    "\n",
    "# reset this input branch\n",
    "all_deep_branch_outputs = []\n",
    "\n",
    "\n",
    "# CATEGORICAL DATA INPUT\n",
    "input_cat = Input(shape=(X_train_cat.shape[1],), dtype='int64', name='categorical_input')\n",
    "for idx,col in enumerate(categorical_headers_ints):\n",
    "    \n",
    "    # track what the maximum integer value will be for this variable\n",
    "    # which is the same as the number of categories\n",
    "    N = max(df_train[col].max(),df_test[col].max())+1\n",
    "    N_reduced = int(np.sqrt(N))\n",
    "    \n",
    "    # this line of code does this: input_branch[:,idx]\n",
    "    x = tf.gather(input_cat, idx, axis=1)\n",
    "    \n",
    "    # now use an embedding to deal with integers as if they were one hot encoded\n",
    "    x = Embedding(input_dim=N, \n",
    "                  output_dim=N_reduced, \n",
    "                  input_length=1, name=col+'_embed')(x)\n",
    "    \n",
    "    # save these outputs to concatenate later\n",
    "    all_deep_branch_outputs.append(x)\n",
    "    \n",
    "# NUMERIC DATA INPUT\n",
    "# create dense input branch for numeric\n",
    "input_num = Input(shape=(X_train_num.shape[1],), name='numeric')\n",
    "x_dense = Dense(units=20, activation='relu',name='num_1')(input_num)\n",
    "    \n",
    "all_deep_branch_outputs.append(x_dense)\n",
    "\n",
    "\n",
    "# merge the deep branches together\n",
    "deep_branch = concatenate(all_deep_branch_outputs,name='concat_embeds')\n",
    "deep_branch = Dense(units=50,activation='relu', name='deep1')(deep_branch)\n",
    "deep_branch = Dense(units=25,activation='relu', name='deep2')(deep_branch)\n",
    "deep_branch = Dense(units=10,activation='relu', name='deep3')(deep_branch)\n",
    "    \n",
    "# merge the deep and wide branch\n",
    "final_branch = concatenate([wide_branch, deep_branch],\n",
    "                           name='concat_deep_wide')\n",
    "final_branch = Dense(units=1,activation='sigmoid',\n",
    "                     name='combined')(final_branch)\n",
    "\n",
    "model = Model(inputs=[input_crossed,input_cat,input_num], \n",
    "              outputs=final_branch)"
   ]
  },
  {
   "cell_type": "code",
   "execution_count": 29,
   "id": "8ed7b2d1-bb58-498b-84ab-26d280ad8f27",
   "metadata": {
    "tags": []
   },
   "outputs": [
    {
     "name": "stdout",
     "output_type": "stream",
     "text": [
      "You must install pydot (`pip install pydot`) and install graphviz (see instructions at https://graphviz.gitlab.io/download/) for plot_model to work.\n"
     ]
    }
   ],
   "source": [
    "from tensorflow.keras.utils import plot_model\n",
    "\n",
    "plot_model(\n",
    "    model, to_file='model.png', show_shapes=True, show_layer_names=True,\n",
    "    rankdir='LR', expand_nested=False, dpi=96\n",
    ")"
   ]
  },
  {
   "cell_type": "code",
   "execution_count": 30,
   "id": "5de46213-807e-451a-b38a-eb1e4779a9f8",
   "metadata": {
    "tags": []
   },
   "outputs": [
    {
     "name": "stdout",
     "output_type": "stream",
     "text": [
      "Epoch 1/15\n",
      "285/285 [==============================] - 4s 4ms/step - loss: 0.1084 - accuracy: 0.8613 - val_loss: 0.0840 - val_accuracy: 0.8903\n",
      "Epoch 2/15\n",
      "285/285 [==============================] - 1s 3ms/step - loss: 0.0689 - accuracy: 0.9092 - val_loss: 0.0688 - val_accuracy: 0.9091\n",
      "Epoch 3/15\n",
      "285/285 [==============================] - 1s 4ms/step - loss: 0.0602 - accuracy: 0.9209 - val_loss: 0.0612 - val_accuracy: 0.9121\n",
      "Epoch 4/15\n",
      "285/285 [==============================] - 1s 3ms/step - loss: 0.0551 - accuracy: 0.9277 - val_loss: 0.0568 - val_accuracy: 0.9219\n",
      "Epoch 5/15\n",
      "285/285 [==============================] - 1s 3ms/step - loss: 0.0523 - accuracy: 0.9325 - val_loss: 0.0524 - val_accuracy: 0.9338\n",
      "Epoch 6/15\n",
      "285/285 [==============================] - 1s 3ms/step - loss: 0.0495 - accuracy: 0.9349 - val_loss: 0.0529 - val_accuracy: 0.9289\n",
      "Epoch 7/15\n",
      "285/285 [==============================] - 1s 4ms/step - loss: 0.0482 - accuracy: 0.9386 - val_loss: 0.0478 - val_accuracy: 0.9368\n",
      "Epoch 8/15\n",
      "285/285 [==============================] - 1s 3ms/step - loss: 0.0464 - accuracy: 0.9409 - val_loss: 0.0459 - val_accuracy: 0.9368\n",
      "Epoch 9/15\n",
      "285/285 [==============================] - 1s 3ms/step - loss: 0.0445 - accuracy: 0.9443 - val_loss: 0.0453 - val_accuracy: 0.9437\n",
      "Epoch 10/15\n",
      "285/285 [==============================] - 1s 5ms/step - loss: 0.0430 - accuracy: 0.9436 - val_loss: 0.0450 - val_accuracy: 0.9407\n",
      "Epoch 11/15\n",
      "285/285 [==============================] - 1s 4ms/step - loss: 0.0411 - accuracy: 0.9460 - val_loss: 0.0474 - val_accuracy: 0.9338\n",
      "Epoch 12/15\n",
      "285/285 [==============================] - 1s 3ms/step - loss: 0.0402 - accuracy: 0.9489 - val_loss: 0.0434 - val_accuracy: 0.9407\n",
      "Epoch 13/15\n",
      "285/285 [==============================] - 1s 3ms/step - loss: 0.0388 - accuracy: 0.9507 - val_loss: 0.0419 - val_accuracy: 0.9427\n",
      "Epoch 14/15\n",
      "285/285 [==============================] - 1s 4ms/step - loss: 0.0378 - accuracy: 0.9499 - val_loss: 0.0440 - val_accuracy: 0.9358\n",
      "Epoch 15/15\n",
      "285/285 [==============================] - 1s 4ms/step - loss: 0.0371 - accuracy: 0.9519 - val_loss: 0.0477 - val_accuracy: 0.9358\n",
      "32/32 [==============================] - 0s 4ms/step\n",
      "[[106  56]\n",
      " [  9 841]]\n",
      "              precision    recall  f1-score   support\n",
      "\n",
      "           0       0.92      0.65      0.77       162\n",
      "           1       0.94      0.99      0.96       850\n",
      "\n",
      "    accuracy                           0.94      1012\n",
      "   macro avg       0.93      0.82      0.86      1012\n",
      "weighted avg       0.94      0.94      0.93      1012\n",
      "\n",
      "CPU times: total: 11.3 s\n",
      "Wall time: 18.5 s\n"
     ]
    }
   ],
   "source": [
    "%%time\n",
    "\n",
    "model.compile(optimizer='adam',\n",
    "              loss='mean_squared_error',\n",
    "              metrics=['accuracy'])\n",
    "\n",
    "# lets also add the history variable to see how we are doing\n",
    "# and lets add a validation set to keep track of our progress\n",
    "history = model.fit([X_train_crossed,X_train_cat,X_train_num],\n",
    "                    y_train, \n",
    "                    epochs=15, \n",
    "                    batch_size=32, \n",
    "                    verbose=1, \n",
    "                    validation_data = ([X_test_crossed,X_test_cat,X_test_num],y_test))\n",
    "\n",
    "yhat = np.round(model.predict([X_test_crossed,X_test_cat,X_test_num]))\n",
    "print(mt.confusion_matrix(y_test,yhat))\n",
    "print(mt.classification_report(y_test,yhat))"
   ]
  },
  {
   "cell_type": "code",
   "execution_count": 31,
   "id": "51eedb00-f913-4dae-b432-9a59849a7378",
   "metadata": {
    "tags": []
   },
   "outputs": [
    {
     "data": {
      "text/plain": [
       "(0.0, 0.25)"
      ]
     },
     "execution_count": 31,
     "metadata": {},
     "output_type": "execute_result"
    },
    {
     "data": {
      "image/png": "[encoded data removed]",
      "text/plain": [
       "<Figure size 1000x400 with 4 Axes>"
      ]
     },
     "metadata": {},
     "output_type": "display_data"
    }
   ],
   "source": [
    "from matplotlib import pyplot as plt\n",
    "\n",
    "%matplotlib inline\n",
    "\n",
    "plt.figure(figsize=(10,4))\n",
    "plt.subplot(2,2,1)\n",
    "plt.plot(history.history['accuracy'])\n",
    "plt.ylim([0.8,1])\n",
    "\n",
    "plt.ylabel('Accuracy %')\n",
    "plt.title('Training')\n",
    "plt.subplot(2,2,2)\n",
    "plt.plot(history.history['val_accuracy'])\n",
    "plt.title('Validation')\n",
    "plt.ylim([0.8,1])\n",
    "\n",
    "plt.subplot(2,2,3)\n",
    "plt.plot(history.history['loss'])\n",
    "plt.ylabel('Training Loss')\n",
    "plt.xlabel('epochs')\n",
    "plt.ylim([0,0.25])\n",
    "\n",
    "plt.subplot(2,2,4)\n",
    "plt.plot(history.history['val_loss'])\n",
    "plt.xlabel('epochs')\n",
    "plt.ylim([0,0.25])"
   ]
  },
  {
   "cell_type": "markdown",
   "id": "7149d31f-313d-4ebf-93a4-d501599b6fda",
   "metadata": {},
   "source": [
    "## Deep and Wide Network #2"
   ]
  },
  {
   "cell_type": "code",
   "execution_count": 32,
   "id": "97b21012-ac08-46ec-ac87-cd7fba39a6cb",
   "metadata": {
    "tags": []
   },
   "outputs": [
    {
     "data": {
      "text/plain": [
       "['Education_Level_Income_Category_Gender_Marital_Status']"
      ]
     },
     "execution_count": 32,
     "metadata": {},
     "output_type": "execute_result"
    }
   ],
   "source": [
    "cross_columns = [['Education_Level', 'Income_Category','Gender', 'Marital_Status']]\n",
    "\n",
    "# cross each set of columns in the list above\n",
    "cross_col_df_names = []\n",
    "for cols_list in cross_columns:\n",
    "    # encode as ints for the embedding\n",
    "    enc = LabelEncoder()\n",
    "    \n",
    "    # 1. create crossed labels by join operation\n",
    "    X_crossed_train = df_train[cols_list].apply(lambda x: '_'.join(x), axis=1)\n",
    "    X_crossed_test = df_test[cols_list].apply(lambda x: '_'.join(x), axis=1)\n",
    "    \n",
    "    # get a nice name for this new crossed column\n",
    "    cross_col_name = '_'.join(cols_list)\n",
    "    \n",
    "    # 2. encode as integers, stacking all possibilities\n",
    "    enc.fit(np.hstack((X_crossed_train.to_numpy(),  X_crossed_test.to_numpy())))\n",
    "    \n",
    "    # 3. Save into dataframe with new name\n",
    "    df_train[cross_col_name] = enc.transform(X_crossed_train)\n",
    "    df_test[cross_col_name] = enc.transform(X_crossed_test)\n",
    "    \n",
    "    # Save the encoder used here for later:\n",
    "    encoders[cross_col_name] = enc\n",
    "    \n",
    "    # keep track of the new names of the crossed columns\n",
    "    cross_col_df_names.append(cross_col_name) \n",
    "    \n",
    "cross_col_df_names"
   ]
  },
  {
   "cell_type": "code",
   "execution_count": 33,
   "id": "bbd0f52d-c60e-4d16-95ca-970e6d3e28a1",
   "metadata": {
    "tags": []
   },
   "outputs": [],
   "source": [
    "# get crossed columns\n",
    "X_train_crossed = df_train[cross_col_df_names].to_numpy()\n",
    "X_test_crossed = df_test[cross_col_df_names].to_numpy()\n",
    "\n",
    "# save categorical features\n",
    "X_train_cat = df_train[categorical_headers_ints].to_numpy() \n",
    "X_test_cat = df_test[categorical_headers_ints].to_numpy() \n",
    "\n",
    "# and save off the numeric features\n",
    "X_train_num =  df_train[numeric_headers].to_numpy()\n",
    "X_test_num = df_test[numeric_headers].to_numpy()\n",
    "\n",
    "\n",
    "# we need to create separate lists for each branch\n",
    "crossed_outputs = []\n",
    "\n",
    "# CROSSED DATA INPUT\n",
    "input_crossed = Input(shape=(X_train_crossed.shape[1],), dtype='int64', name='wide_inputs')\n",
    "for idx,col in enumerate(cross_col_df_names):\n",
    "    \n",
    "    # track what the maximum integer value will be for this variable\n",
    "    # which is the same as the number of categories\n",
    "    N = max(df_train[col].max(),df_test[col].max())+1\n",
    "    N = len(encoders[col].classes_)\n",
    "    N_reduced = int(np.sqrt(N))\n",
    "    \n",
    "    \n",
    "    # this line of code does this: input_branch[:,idx]\n",
    "    x = tf.gather(input_crossed, idx, axis=1)\n",
    "    \n",
    "    # now use an embedding to deal with integers as if they were one hot encoded\n",
    "    x = Embedding(input_dim=N, \n",
    "                  output_dim=N_reduced, \n",
    "                  input_length=1, name=col+'_embed')(x)\n",
    "    \n",
    "    # save these outputs to concatenate later\n",
    "    crossed_outputs.append(x)\n",
    "    \n",
    "\n",
    "# now concatenate the outputs and add a fully connected layer\n",
    "wide_branch = concatenate(crossed_outputs, name='wide_concat')\n",
    "\n",
    "# reset this input branch\n",
    "all_deep_branch_outputs = []\n",
    "\n",
    "\n",
    "# CATEGORICAL DATA INPUT\n",
    "input_cat = Input(shape=(X_train_cat.shape[1],), dtype='int64', name='categorical_input')\n",
    "for idx,col in enumerate(categorical_headers_ints):\n",
    "    \n",
    "    # track what the maximum integer value will be for this variable\n",
    "    # which is the same as the number of categories\n",
    "    N = max(df_train[col].max(),df_test[col].max())+1\n",
    "    N_reduced = int(np.sqrt(N))\n",
    "    \n",
    "    # this line of code does this: input_branch[:,idx]\n",
    "    x = tf.gather(input_cat, idx, axis=1)\n",
    "    \n",
    "    # now use an embedding to deal with integers as if they were one hot encoded\n",
    "    x = Embedding(input_dim=N, \n",
    "                  output_dim=N_reduced, \n",
    "                  input_length=1, name=col+'_embed')(x)\n",
    "    \n",
    "    # save these outputs to concatenate later\n",
    "    all_deep_branch_outputs.append(x)\n",
    "    \n",
    "# NUMERIC DATA INPUT\n",
    "# create dense input branch for numeric\n",
    "input_num = Input(shape=(X_train_num.shape[1],), name='numeric')\n",
    "x_dense = Dense(units=20, activation='relu',name='num_1')(input_num)\n",
    "    \n",
    "all_deep_branch_outputs.append(x_dense)\n",
    "\n",
    "\n",
    "# merge the deep branches together\n",
    "deep_branch = concatenate(all_deep_branch_outputs,name='concat_embeds')\n",
    "deep_branch = Dense(units=50,activation='relu', name='deep1')(deep_branch)\n",
    "deep_branch = Dense(units=25,activation='relu', name='deep2')(deep_branch)\n",
    "deep_branch = Dense(units=10,activation='relu', name='deep3')(deep_branch)\n",
    "    \n",
    "# merge the deep and wide branch\n",
    "final_branch = concatenate([wide_branch, deep_branch],\n",
    "                           name='concat_deep_wide')\n",
    "final_branch = Dense(units=1,activation='sigmoid',\n",
    "                     name='combined')(final_branch)\n",
    "\n",
    "model = Model(inputs=[input_crossed,input_cat,input_num], \n",
    "              outputs=final_branch)"
   ]
  },
  {
   "cell_type": "code",
   "execution_count": 34,
   "id": "c9a53623-2e20-4b25-b18e-5d18da37c495",
   "metadata": {
    "tags": []
   },
   "outputs": [
    {
     "name": "stdout",
     "output_type": "stream",
     "text": [
      "You must install pydot (`pip install pydot`) and install graphviz (see instructions at https://graphviz.gitlab.io/download/) for plot_model to work.\n"
     ]
    }
   ],
   "source": [
    "plot_model(\n",
    "    model, to_file='model.png', show_shapes=True, show_layer_names=True,\n",
    "    rankdir='LR', expand_nested=False, dpi=96\n",
    ")"
   ]
  },
  {
   "cell_type": "code",
   "execution_count": 35,
   "id": "183209f8-6b6a-41ca-9fe6-57cf9310d6b1",
   "metadata": {
    "tags": []
   },
   "outputs": [
    {
     "name": "stdout",
     "output_type": "stream",
     "text": [
      "Epoch 1/15\n",
      "285/285 [==============================] - 3s 4ms/step - loss: 0.1154 - accuracy: 0.8535 - val_loss: 0.0879 - val_accuracy: 0.8923\n",
      "Epoch 2/15\n",
      "285/285 [==============================] - 1s 3ms/step - loss: 0.0744 - accuracy: 0.9032 - val_loss: 0.0746 - val_accuracy: 0.9012\n",
      "Epoch 3/15\n",
      "285/285 [==============================] - 1s 3ms/step - loss: 0.0609 - accuracy: 0.9202 - val_loss: 0.0622 - val_accuracy: 0.9140\n",
      "Epoch 4/15\n",
      "285/285 [==============================] - 1s 4ms/step - loss: 0.0527 - accuracy: 0.9317 - val_loss: 0.0567 - val_accuracy: 0.9200\n",
      "Epoch 5/15\n",
      "285/285 [==============================] - 1s 3ms/step - loss: 0.0472 - accuracy: 0.9400 - val_loss: 0.0520 - val_accuracy: 0.9308\n",
      "Epoch 6/15\n",
      "285/285 [==============================] - 1s 3ms/step - loss: 0.0450 - accuracy: 0.9400 - val_loss: 0.0516 - val_accuracy: 0.9279\n",
      "Epoch 7/15\n",
      "285/285 [==============================] - 1s 3ms/step - loss: 0.0430 - accuracy: 0.9453 - val_loss: 0.0484 - val_accuracy: 0.9328\n",
      "Epoch 8/15\n",
      "285/285 [==============================] - 1s 4ms/step - loss: 0.0407 - accuracy: 0.9488 - val_loss: 0.0518 - val_accuracy: 0.9338\n",
      "Epoch 9/15\n",
      "285/285 [==============================] - 1s 3ms/step - loss: 0.0390 - accuracy: 0.9515 - val_loss: 0.0468 - val_accuracy: 0.9387\n",
      "Epoch 10/15\n",
      "285/285 [==============================] - 1s 3ms/step - loss: 0.0379 - accuracy: 0.9523 - val_loss: 0.0506 - val_accuracy: 0.9368\n",
      "Epoch 11/15\n",
      "285/285 [==============================] - 1s 5ms/step - loss: 0.0368 - accuracy: 0.9532 - val_loss: 0.0459 - val_accuracy: 0.9397\n",
      "Epoch 12/15\n",
      "285/285 [==============================] - 1s 3ms/step - loss: 0.0353 - accuracy: 0.9563 - val_loss: 0.0476 - val_accuracy: 0.9348\n",
      "Epoch 13/15\n",
      "285/285 [==============================] - 1s 3ms/step - loss: 0.0343 - accuracy: 0.9570 - val_loss: 0.0511 - val_accuracy: 0.9348\n",
      "Epoch 14/15\n",
      "285/285 [==============================] - 1s 3ms/step - loss: 0.0328 - accuracy: 0.9605 - val_loss: 0.0470 - val_accuracy: 0.9368\n",
      "Epoch 15/15\n",
      "285/285 [==============================] - 1s 3ms/step - loss: 0.0325 - accuracy: 0.9611 - val_loss: 0.0495 - val_accuracy: 0.9348\n",
      "32/32 [==============================] - 0s 3ms/step\n",
      "[[105  57]\n",
      " [  9 841]]\n",
      "              precision    recall  f1-score   support\n",
      "\n",
      "           0       0.92      0.65      0.76       162\n",
      "           1       0.94      0.99      0.96       850\n",
      "\n",
      "    accuracy                           0.93      1012\n",
      "   macro avg       0.93      0.82      0.86      1012\n",
      "weighted avg       0.93      0.93      0.93      1012\n",
      "\n",
      "CPU times: total: 10.6 s\n",
      "Wall time: 17.7 s\n"
     ]
    }
   ],
   "source": [
    "%%time\n",
    "\n",
    "model.compile(optimizer='adam',\n",
    "              loss='mean_squared_error',\n",
    "              metrics=['accuracy'])\n",
    "\n",
    "# lets also add the history variable to see how we are doing\n",
    "# and lets add a validation set to keep track of our progress\n",
    "history = model.fit([X_train_crossed,X_train_cat,X_train_num],\n",
    "                    y_train, \n",
    "                    epochs=15, \n",
    "                    batch_size=32, \n",
    "                    verbose=1, \n",
    "                    validation_data = ([X_test_crossed,X_test_cat,X_test_num],y_test))\n",
    "\n",
    "yhat = np.round(model.predict([X_test_crossed,X_test_cat,X_test_num]))\n",
    "print(mt.confusion_matrix(y_test,yhat))\n",
    "print(mt.classification_report(y_test,yhat))"
   ]
  },
  {
   "cell_type": "code",
   "execution_count": 36,
   "id": "01564bdf-2a08-4fea-aaa2-09a1759bfc63",
   "metadata": {
    "tags": []
   },
   "outputs": [
    {
     "data": {
      "text/plain": [
       "(0.0, 0.25)"
      ]
     },
     "execution_count": 36,
     "metadata": {},
     "output_type": "execute_result"
    },
    {
     "data": {
      "image/png": "[encoded data removed]",
      "text/plain": [
       "<Figure size 1000x400 with 4 Axes>"
      ]
     },
     "metadata": {},
     "output_type": "display_data"
    }
   ],
   "source": [
    "%matplotlib inline\n",
    "\n",
    "plt.figure(figsize=(10,4))\n",
    "plt.subplot(2,2,1)\n",
    "plt.plot(history.history['accuracy'])\n",
    "plt.ylim([0.8,1])\n",
    "\n",
    "plt.ylabel('Accuracy %')\n",
    "plt.title('Training')\n",
    "plt.subplot(2,2,2)\n",
    "plt.plot(history.history['val_accuracy'])\n",
    "plt.title('Validation')\n",
    "plt.ylim([0.8,1])\n",
    "\n",
    "plt.subplot(2,2,3)\n",
    "plt.plot(history.history['loss'])\n",
    "plt.ylabel('Training Loss')\n",
    "plt.xlabel('epochs')\n",
    "plt.ylim([0,0.25])\n",
    "\n",
    "plt.subplot(2,2,4)\n",
    "plt.plot(history.history['val_loss'])\n",
    "plt.xlabel('epochs')\n",
    "plt.ylim([0,0.25])"
   ]
  },
  {
   "cell_type": "markdown",
   "id": "9661290e-8c84-4a49-bfc5-f50ca3bd6750",
   "metadata": {},
   "source": [
    "## Deep and Wide Network #3"
   ]
  },
  {
   "cell_type": "code",
   "execution_count": 37,
   "id": "8131094a-8bab-4990-916e-a390a4f74ceb",
   "metadata": {
    "tags": []
   },
   "outputs": [
    {
     "data": {
      "text/plain": [
       "['Education_Level_Income_Category_Gender_Marital_Status']"
      ]
     },
     "execution_count": 37,
     "metadata": {},
     "output_type": "execute_result"
    }
   ],
   "source": [
    "cross_columns = [['Education_Level', 'Income_Category','Gender', 'Marital_Status']]\n",
    "\n",
    "# cross each set of columns in the list above\n",
    "cross_col_df_names = []\n",
    "for cols_list in cross_columns:\n",
    "    # encode as ints for the embedding\n",
    "    enc = LabelEncoder()\n",
    "    \n",
    "    # 1. create crossed labels by join operation\n",
    "    X_crossed_train = df_train[cols_list].apply(lambda x: '_'.join(x), axis=1)\n",
    "    X_crossed_test = df_test[cols_list].apply(lambda x: '_'.join(x), axis=1)\n",
    "    \n",
    "    # get a nice name for this new crossed column\n",
    "    cross_col_name = '_'.join(cols_list)\n",
    "    \n",
    "    # 2. encode as integers, stacking all possibilities\n",
    "    enc.fit(np.hstack((X_crossed_train.to_numpy(),  X_crossed_test.to_numpy())))\n",
    "    \n",
    "    # 3. Save into dataframe with new name\n",
    "    df_train[cross_col_name] = enc.transform(X_crossed_train)\n",
    "    df_test[cross_col_name] = enc.transform(X_crossed_test)\n",
    "    \n",
    "    # Save the encoder used here for later:\n",
    "    encoders[cross_col_name] = enc\n",
    "    \n",
    "    # keep track of the new names of the crossed columns\n",
    "    cross_col_df_names.append(cross_col_name) \n",
    "    \n",
    "cross_col_df_names"
   ]
  },
  {
   "cell_type": "code",
   "execution_count": 38,
   "id": "627357f8-f082-4f24-b1a0-fa3b1706e715",
   "metadata": {
    "tags": []
   },
   "outputs": [],
   "source": [
    "# get crossed columns\n",
    "X_train_crossed = df_train[cross_col_df_names].to_numpy()\n",
    "X_test_crossed = df_test[cross_col_df_names].to_numpy()\n",
    "\n",
    "# save categorical features\n",
    "X_train_cat = df_train[categorical_headers_ints].to_numpy() \n",
    "X_test_cat = df_test[categorical_headers_ints].to_numpy() \n",
    "\n",
    "# and save off the numeric features\n",
    "X_train_num =  df_train[numeric_headers].to_numpy()\n",
    "X_test_num = df_test[numeric_headers].to_numpy()\n",
    "\n",
    "\n",
    "# we need to create separate lists for each branch\n",
    "crossed_outputs = []\n",
    "\n",
    "# CROSSED DATA INPUT\n",
    "input_crossed = Input(shape=(X_train_crossed.shape[1],), dtype='int64', name='wide_inputs')\n",
    "for idx,col in enumerate(cross_col_df_names):\n",
    "    \n",
    "    # track what the maximum integer value will be for this variable\n",
    "    # which is the same as the number of categories\n",
    "    N = max(df_train[col].max(),df_test[col].max())+1\n",
    "    N = len(encoders[col].classes_)\n",
    "    N_reduced = int(np.sqrt(N))\n",
    "    \n",
    "    \n",
    "    # this line of code does this: input_branch[:,idx]\n",
    "    x = tf.gather(input_crossed, idx, axis=1)\n",
    "    \n",
    "    # now use an embedding to deal with integers as if they were one hot encoded\n",
    "    x = Embedding(input_dim=N, \n",
    "                  output_dim=N_reduced, \n",
    "                  input_length=1, name=col+'_embed')(x)\n",
    "    \n",
    "    # save these outputs to concatenate later\n",
    "    crossed_outputs.append(x)\n",
    "    \n",
    "\n",
    "# now concatenate the outputs and add a fully connected layer\n",
    "wide_branch = concatenate(crossed_outputs, name='wide_concat')\n",
    "\n",
    "# reset this input branch\n",
    "all_deep_branch_outputs = []\n",
    "\n",
    "\n",
    "# CATEGORICAL DATA INPUT\n",
    "input_cat = Input(shape=(X_train_cat.shape[1],), dtype='int64', name='categorical_input')\n",
    "for idx,col in enumerate(categorical_headers_ints):\n",
    "    \n",
    "    # track what the maximum integer value will be for this variable\n",
    "    # which is the same as the number of categories\n",
    "    N = max(df_train[col].max(),df_test[col].max())+1\n",
    "    N_reduced = int(np.sqrt(N))\n",
    "    \n",
    "    # this line of code does this: input_branch[:,idx]\n",
    "    x = tf.gather(input_cat, idx, axis=1)\n",
    "    \n",
    "    # now use an embedding to deal with integers as if they were one hot encoded\n",
    "    x = Embedding(input_dim=N, \n",
    "                  output_dim=N_reduced, \n",
    "                  input_length=1, name=col+'_embed')(x)\n",
    "    \n",
    "    # save these outputs to concatenate later\n",
    "    all_deep_branch_outputs.append(x)\n",
    "    \n",
    "# NUMERIC DATA INPUT\n",
    "# create dense input branch for numeric\n",
    "input_num = Input(shape=(X_train_num.shape[1],), name='numeric')\n",
    "x_dense = Dense(units=20, activation='relu',name='num_1')(input_num)\n",
    "    \n",
    "all_deep_branch_outputs.append(x_dense)\n",
    "\n",
    "\n",
    "# merge the deep branches together\n",
    "deep_branch = concatenate(all_deep_branch_outputs,name='concat_embeds')\n",
    "deep_branch = Dense(units=500,activation='relu', name='deep1')(deep_branch)\n",
    "deep_branch = Dense(units=250,activation='relu', name='deep2')(deep_branch)\n",
    "deep_branch = Dense(units=100,activation='relu', name='deep3')(deep_branch)\n",
    "    \n",
    "# merge the deep and wide branch\n",
    "final_branch = concatenate([wide_branch, deep_branch],\n",
    "                           name='concat_deep_wide')\n",
    "final_branch = Dense(units=1,activation='sigmoid',\n",
    "                     name='combined')(final_branch)\n",
    "\n",
    "model = Model(inputs=[input_crossed,input_cat,input_num], \n",
    "              outputs=final_branch)"
   ]
  },
  {
   "cell_type": "code",
   "execution_count": 39,
   "id": "e61e0dd4-6c7b-4268-b202-1ed18e60aebf",
   "metadata": {
    "tags": []
   },
   "outputs": [
    {
     "name": "stdout",
     "output_type": "stream",
     "text": [
      "You must install pydot (`pip install pydot`) and install graphviz (see instructions at https://graphviz.gitlab.io/download/) for plot_model to work.\n"
     ]
    }
   ],
   "source": [
    "plot_model(\n",
    "    model, to_file='model.png', show_shapes=True, show_layer_names=True,\n",
    "    rankdir='LR', expand_nested=False, dpi=96\n",
    ")"
   ]
  },
  {
   "cell_type": "code",
   "execution_count": 40,
   "id": "20cc999a-0e75-4744-ac29-a6af5ce23087",
   "metadata": {
    "tags": []
   },
   "outputs": [
    {
     "name": "stdout",
     "output_type": "stream",
     "text": [
      "Epoch 1/15\n",
      "285/285 [==============================] - 4s 6ms/step - loss: 0.0794 - accuracy: 0.9017 - val_loss: 0.0641 - val_accuracy: 0.9121\n",
      "Epoch 2/15\n",
      "285/285 [==============================] - 2s 7ms/step - loss: 0.0583 - accuracy: 0.9227 - val_loss: 0.0687 - val_accuracy: 0.9091\n",
      "Epoch 3/15\n",
      "285/285 [==============================] - 2s 6ms/step - loss: 0.0523 - accuracy: 0.9306 - val_loss: 0.0512 - val_accuracy: 0.9308\n",
      "Epoch 4/15\n",
      "285/285 [==============================] - 2s 7ms/step - loss: 0.0465 - accuracy: 0.9379 - val_loss: 0.0579 - val_accuracy: 0.9180\n",
      "Epoch 5/15\n",
      "285/285 [==============================] - 2s 6ms/step - loss: 0.0437 - accuracy: 0.9434 - val_loss: 0.0615 - val_accuracy: 0.9200\n",
      "Epoch 6/15\n",
      "285/285 [==============================] - 2s 8ms/step - loss: 0.0412 - accuracy: 0.9450 - val_loss: 0.0490 - val_accuracy: 0.9308\n",
      "Epoch 7/15\n",
      "285/285 [==============================] - 2s 5ms/step - loss: 0.0385 - accuracy: 0.9499 - val_loss: 0.0482 - val_accuracy: 0.9348\n",
      "Epoch 8/15\n",
      "285/285 [==============================] - 2s 7ms/step - loss: 0.0358 - accuracy: 0.9549 - val_loss: 0.0507 - val_accuracy: 0.9348\n",
      "Epoch 9/15\n",
      "285/285 [==============================] - 1s 5ms/step - loss: 0.0346 - accuracy: 0.9563 - val_loss: 0.0476 - val_accuracy: 0.9338\n",
      "Epoch 10/15\n",
      "285/285 [==============================] - 2s 7ms/step - loss: 0.0329 - accuracy: 0.9593 - val_loss: 0.0557 - val_accuracy: 0.9239\n",
      "Epoch 11/15\n",
      "285/285 [==============================] - 2s 8ms/step - loss: 0.0302 - accuracy: 0.9619 - val_loss: 0.0547 - val_accuracy: 0.9229\n",
      "Epoch 12/15\n",
      "285/285 [==============================] - 2s 6ms/step - loss: 0.0295 - accuracy: 0.9624 - val_loss: 0.0524 - val_accuracy: 0.9298\n",
      "Epoch 13/15\n",
      "285/285 [==============================] - 2s 7ms/step - loss: 0.0265 - accuracy: 0.9687 - val_loss: 0.0526 - val_accuracy: 0.9318\n",
      "Epoch 14/15\n",
      "285/285 [==============================] - 2s 6ms/step - loss: 0.0266 - accuracy: 0.9673 - val_loss: 0.0544 - val_accuracy: 0.9279\n",
      "Epoch 15/15\n",
      "285/285 [==============================] - 3s 9ms/step - loss: 0.0245 - accuracy: 0.9702 - val_loss: 0.0497 - val_accuracy: 0.9338\n",
      "32/32 [==============================] - 0s 4ms/step\n",
      "[[124  38]\n",
      " [ 29 821]]\n",
      "              precision    recall  f1-score   support\n",
      "\n",
      "           0       0.81      0.77      0.79       162\n",
      "           1       0.96      0.97      0.96       850\n",
      "\n",
      "    accuracy                           0.93      1012\n",
      "   macro avg       0.88      0.87      0.87      1012\n",
      "weighted avg       0.93      0.93      0.93      1012\n",
      "\n",
      "CPU times: total: 13.3 s\n",
      "Wall time: 31.5 s\n"
     ]
    }
   ],
   "source": [
    "%%time\n",
    "\n",
    "model.compile(optimizer='adam',\n",
    "              loss='mean_squared_error',\n",
    "              metrics=['accuracy'])\n",
    "\n",
    "# lets also add the history variable to see how we are doing\n",
    "# and lets add a validation set to keep track of our progress\n",
    "history = model.fit([X_train_crossed,X_train_cat,X_train_num],\n",
    "                    y_train, \n",
    "                    epochs=15, \n",
    "                    batch_size=32, \n",
    "                    verbose=1, \n",
    "                    validation_data = ([X_test_crossed,X_test_cat,X_test_num],y_test))\n",
    "\n",
    "yhat = np.round(model.predict([X_test_crossed,X_test_cat,X_test_num]))\n",
    "print(mt.confusion_matrix(y_test,yhat))\n",
    "print(mt.classification_report(y_test,yhat))"
   ]
  },
  {
   "cell_type": "code",
   "execution_count": 41,
   "id": "c03412f0-bb50-4d80-b6b3-20e675785640",
   "metadata": {
    "tags": []
   },
   "outputs": [
    {
     "data": {
      "text/plain": [
       "(0.0, 0.25)"
      ]
     },
     "execution_count": 41,
     "metadata": {},
     "output_type": "execute_result"
    },
    {
     "data": {
      "image/png": "[encoded data removed]",
      "text/plain": [
       "<Figure size 1000x400 with 4 Axes>"
      ]
     },
     "metadata": {},
     "output_type": "display_data"
    }
   ],
   "source": [
    "%matplotlib inline\n",
    "\n",
    "plt.figure(figsize=(10,4))\n",
    "plt.subplot(2,2,1)\n",
    "plt.plot(history.history['accuracy'])\n",
    "plt.ylim([0.8,1])\n",
    "\n",
    "plt.ylabel('Accuracy %')\n",
    "plt.title('Training')\n",
    "plt.subplot(2,2,2)\n",
    "plt.plot(history.history['val_accuracy'])\n",
    "plt.title('Validation')\n",
    "plt.ylim([0.8,1])\n",
    "\n",
    "plt.subplot(2,2,3)\n",
    "plt.plot(history.history['loss'])\n",
    "plt.ylabel('Training Loss')\n",
    "plt.xlabel('epochs')\n",
    "plt.ylim([0,0.25])\n",
    "\n",
    "plt.subplot(2,2,4)\n",
    "plt.plot(history.history['val_loss'])\n",
    "plt.xlabel('epochs')\n",
    "plt.ylim([0,0.25])"
   ]
  },
  {
   "cell_type": "markdown",
   "id": "94d5bb0b-4c88-451f-bb30-ae4f8af8cbce",
   "metadata": {},
   "source": [
    "### Altered Model 1: 5 Layers"
   ]
  },
  {
   "cell_type": "code",
   "execution_count": 43,
   "id": "9aa4319f-0c1a-4083-b2a0-a379330b5b10",
   "metadata": {
    "tags": []
   },
   "outputs": [],
   "source": [
    "# now concatenate the outputs and add a fully connected layer\n",
    "wide_branch = concatenate(crossed_outputs, name='wide_concat')\n",
    "\n",
    "# reset this input branch\n",
    "all_deep_branch_outputs = []\n",
    "\n",
    "\n",
    "# CATEGORICAL DATA INPUT\n",
    "input_cat = Input(shape=(X_train_cat.shape[1],), dtype='int64', name='categorical_input')\n",
    "for idx,col in enumerate(categorical_headers_ints):\n",
    "    \n",
    "    # track what the maximum integer value will be for this variable\n",
    "    # which is the same as the number of categories\n",
    "    N = max(df_train[col].max(),df_test[col].max())+1\n",
    "    N_reduced = int(np.sqrt(N))\n",
    "    \n",
    "    # this line of code does this: input_branch[:,idx]\n",
    "    x = tf.gather(input_cat, idx, axis=1)\n",
    "    \n",
    "    # now use an embedding to deal with integers as if they were one hot encoded\n",
    "    x = Embedding(input_dim=N, \n",
    "                  output_dim=N_reduced, \n",
    "                  input_length=1, name=col+'_embed')(x)\n",
    "    \n",
    "    # save these outputs to concatenate later\n",
    "    all_deep_branch_outputs.append(x)\n",
    "    \n",
    "# NUMERIC DATA INPUT\n",
    "# create dense input branch for numeric\n",
    "input_num = Input(shape=(X_train_num.shape[1],), name='numeric')\n",
    "x_dense = Dense(units=20, activation='relu',name='num_1')(input_num)\n",
    "    \n",
    "all_deep_branch_outputs.append(x_dense)\n",
    "\n",
    "\n",
    "# merge the deep branches together\n",
    "deep_branch = concatenate(all_deep_branch_outputs,name='concat_embeds')\n",
    "deep_branch = Dense(units=500,activation='relu', name='deep1')(deep_branch)\n",
    "deep_branch = Dense(units=250,activation='relu', name='deep2')(deep_branch)\n",
    "deep_branch = Dense(units=100,activation='relu', name='deep3')(deep_branch)\n",
    "deep_branch = Dense(units=50,activation='relu', name='deep4')(deep_branch)\n",
    "deep_branch = Dense(units=25,activation='relu', name='deep5')(deep_branch)\n",
    "    \n",
    "# merge the deep and wide branch\n",
    "final_branch = concatenate([wide_branch, deep_branch],\n",
    "                           name='concat_deep_wide')\n",
    "final_branch = Dense(units=1,activation='sigmoid',\n",
    "                     name='combined')(final_branch)\n",
    "\n",
    "model = Model(inputs=[input_crossed,input_cat,input_num], \n",
    "              outputs=final_branch)"
   ]
  },
  {
   "cell_type": "code",
   "execution_count": 44,
   "id": "c29763ad-35a8-4a85-9967-f65d7be85a36",
   "metadata": {
    "tags": []
   },
   "outputs": [
    {
     "name": "stdout",
     "output_type": "stream",
     "text": [
      "You must install pydot (`pip install pydot`) and install graphviz (see instructions at https://graphviz.gitlab.io/download/) for plot_model to work.\n"
     ]
    }
   ],
   "source": [
    "from tensorflow.keras.utils import plot_model\n",
    "\n",
    "plot_model(\n",
    "    model, to_file='model.png', show_shapes=True, show_layer_names=True,\n",
    "    rankdir='LR', expand_nested=False, dpi=96\n",
    ")"
   ]
  },
  {
   "cell_type": "code",
   "execution_count": 45,
   "id": "1fb17d8b-1ce9-4446-8412-18182be92e38",
   "metadata": {
    "tags": []
   },
   "outputs": [
    {
     "name": "stdout",
     "output_type": "stream",
     "text": [
      "Epoch 1/15\n",
      "285/285 [==============================] - 5s 7ms/step - loss: 0.0856 - accuracy: 0.8875 - val_loss: 0.0719 - val_accuracy: 0.8982\n",
      "Epoch 2/15\n",
      "285/285 [==============================] - 2s 6ms/step - loss: 0.0597 - accuracy: 0.9204 - val_loss: 0.0630 - val_accuracy: 0.9091\n",
      "Epoch 3/15\n",
      "285/285 [==============================] - 2s 6ms/step - loss: 0.0531 - accuracy: 0.9308 - val_loss: 0.0585 - val_accuracy: 0.9190\n",
      "Epoch 4/15\n",
      "285/285 [==============================] - 2s 6ms/step - loss: 0.0483 - accuracy: 0.9359 - val_loss: 0.0553 - val_accuracy: 0.9249\n",
      "Epoch 5/15\n",
      "285/285 [==============================] - 2s 6ms/step - loss: 0.0443 - accuracy: 0.9422 - val_loss: 0.0518 - val_accuracy: 0.9289\n",
      "Epoch 6/15\n",
      "285/285 [==============================] - 2s 6ms/step - loss: 0.0423 - accuracy: 0.9430 - val_loss: 0.0514 - val_accuracy: 0.9279\n",
      "Epoch 7/15\n",
      "285/285 [==============================] - 2s 7ms/step - loss: 0.0395 - accuracy: 0.9482 - val_loss: 0.0534 - val_accuracy: 0.9239\n",
      "Epoch 8/15\n",
      "285/285 [==============================] - 2s 6ms/step - loss: 0.0372 - accuracy: 0.9521 - val_loss: 0.0530 - val_accuracy: 0.9259\n",
      "Epoch 9/15\n",
      "285/285 [==============================] - 2s 6ms/step - loss: 0.0356 - accuracy: 0.9546 - val_loss: 0.0540 - val_accuracy: 0.9289\n",
      "Epoch 10/15\n",
      "285/285 [==============================] - 2s 6ms/step - loss: 0.0340 - accuracy: 0.9570 - val_loss: 0.0536 - val_accuracy: 0.9289\n",
      "Epoch 11/15\n",
      "285/285 [==============================] - 2s 8ms/step - loss: 0.0325 - accuracy: 0.9591 - val_loss: 0.0604 - val_accuracy: 0.9209\n",
      "Epoch 12/15\n",
      "285/285 [==============================] - 2s 6ms/step - loss: 0.0315 - accuracy: 0.9604 - val_loss: 0.0547 - val_accuracy: 0.9269\n",
      "Epoch 13/15\n",
      "285/285 [==============================] - 1s 5ms/step - loss: 0.0297 - accuracy: 0.9640 - val_loss: 0.0534 - val_accuracy: 0.9269\n",
      "Epoch 14/15\n",
      "285/285 [==============================] - 1s 5ms/step - loss: 0.0262 - accuracy: 0.9684 - val_loss: 0.0535 - val_accuracy: 0.9308\n",
      "Epoch 15/15\n",
      "285/285 [==============================] - 1s 5ms/step - loss: 0.0253 - accuracy: 0.9688 - val_loss: 0.0529 - val_accuracy: 0.9308\n",
      "32/32 [==============================] - 0s 3ms/step\n",
      "[[121  41]\n",
      " [ 29 821]]\n",
      "              precision    recall  f1-score   support\n",
      "\n",
      "           0       0.81      0.75      0.78       162\n",
      "           1       0.95      0.97      0.96       850\n",
      "\n",
      "    accuracy                           0.93      1012\n",
      "   macro avg       0.88      0.86      0.87      1012\n",
      "weighted avg       0.93      0.93      0.93      1012\n",
      "\n",
      "CPU times: total: 19.9 s\n",
      "Wall time: 29.2 s\n"
     ]
    }
   ],
   "source": [
    "%%time\n",
    "\n",
    "model.compile(optimizer='adam',\n",
    "              loss='mean_squared_error',\n",
    "              metrics=['accuracy'])\n",
    "\n",
    "# lets also add the history variable to see how we are doing\n",
    "# and lets add a validation set to keep track of our progress\n",
    "history1 = model.fit([X_train_crossed,X_train_cat,X_train_num],\n",
    "                    y_train, \n",
    "                    epochs=15, \n",
    "                    batch_size=32, \n",
    "                    verbose=1, \n",
    "                    validation_data = ([X_test_crossed,X_test_cat,X_test_num],y_test))\n",
    "\n",
    "yhat = np.round(model.predict([X_test_crossed,X_test_cat,X_test_num]))\n",
    "print(mt.confusion_matrix(y_test,yhat))\n",
    "print(mt.classification_report(y_test,yhat))"
   ]
  },
  {
   "cell_type": "code",
   "execution_count": 46,
   "id": "f3ab559c-8e07-408e-8147-868b8b6d0ca9",
   "metadata": {
    "tags": []
   },
   "outputs": [
    {
     "data": {
      "text/plain": [
       "(0.0, 0.25)"
      ]
     },
     "execution_count": 46,
     "metadata": {},
     "output_type": "execute_result"
    },
    {
     "data": {
      "image/png": "[encoded data removed]",
      "text/plain": [
       "<Figure size 1000x400 with 4 Axes>"
      ]
     },
     "metadata": {},
     "output_type": "display_data"
    }
   ],
   "source": [
    "from matplotlib import pyplot as plt\n",
    "\n",
    "%matplotlib inline\n",
    "\n",
    "plt.figure(figsize=(10,4))\n",
    "plt.subplot(2,2,1)\n",
    "plt.plot(history1.history['accuracy'])\n",
    "plt.ylim([0.8,1])\n",
    "\n",
    "plt.ylabel('Accuracy %')\n",
    "plt.title('Training')\n",
    "plt.subplot(2,2,2)\n",
    "plt.plot(history1.history['val_accuracy'])\n",
    "plt.title('Validation')\n",
    "plt.ylim([0.8,1])\n",
    "\n",
    "plt.subplot(2,2,3)\n",
    "plt.plot(history1.history['loss'])\n",
    "plt.ylabel('Training Loss')\n",
    "plt.xlabel('epochs')\n",
    "plt.ylim([0,0.25])\n",
    "\n",
    "plt.subplot(2,2,4)\n",
    "plt.plot(history1.history['val_loss'])\n",
    "plt.xlabel('epochs')\n",
    "plt.ylim([0,0.25])"
   ]
  },
  {
   "cell_type": "markdown",
   "id": "ee340e3e-d46a-4b48-94e6-d56e28ad685d",
   "metadata": {},
   "source": [
    "### Altered Model 2: 2 Layers"
   ]
  },
  {
   "cell_type": "code",
   "execution_count": 48,
   "id": "e4e3dbdc-9ec8-4563-be6e-2b9b5d2efd95",
   "metadata": {
    "tags": []
   },
   "outputs": [
    {
     "name": "stdout",
     "output_type": "stream",
     "text": [
      "Epoch 1/15\n",
      "285/285 [==============================] - 4s 6ms/step - loss: 0.0591 - accuracy: 0.9233 - val_loss: 0.0477 - val_accuracy: 0.9358\n",
      "Epoch 2/15\n",
      "285/285 [==============================] - 1s 5ms/step - loss: 0.0445 - accuracy: 0.9412 - val_loss: 0.0497 - val_accuracy: 0.9308\n",
      "Epoch 3/15\n",
      "285/285 [==============================] - 2s 5ms/step - loss: 0.0402 - accuracy: 0.9483 - val_loss: 0.0488 - val_accuracy: 0.9348\n",
      "Epoch 4/15\n",
      "285/285 [==============================] - 2s 5ms/step - loss: 0.0368 - accuracy: 0.9516 - val_loss: 0.0492 - val_accuracy: 0.9368\n",
      "Epoch 5/15\n",
      "285/285 [==============================] - 1s 5ms/step - loss: 0.0349 - accuracy: 0.9551 - val_loss: 0.0503 - val_accuracy: 0.9298\n",
      "Epoch 6/15\n",
      "285/285 [==============================] - 2s 7ms/step - loss: 0.0327 - accuracy: 0.9582 - val_loss: 0.0481 - val_accuracy: 0.9318\n",
      "Epoch 7/15\n",
      "285/285 [==============================] - 2s 6ms/step - loss: 0.0299 - accuracy: 0.9623 - val_loss: 0.0433 - val_accuracy: 0.9457\n",
      "Epoch 8/15\n",
      "285/285 [==============================] - 2s 6ms/step - loss: 0.0280 - accuracy: 0.9662 - val_loss: 0.0481 - val_accuracy: 0.9407\n",
      "Epoch 9/15\n",
      "285/285 [==============================] - 1s 5ms/step - loss: 0.0270 - accuracy: 0.9681 - val_loss: 0.0470 - val_accuracy: 0.9437\n",
      "Epoch 10/15\n",
      "285/285 [==============================] - 2s 6ms/step - loss: 0.0254 - accuracy: 0.9682 - val_loss: 0.0442 - val_accuracy: 0.9447\n",
      "Epoch 11/15\n",
      "285/285 [==============================] - 1s 5ms/step - loss: 0.0231 - accuracy: 0.9727 - val_loss: 0.0498 - val_accuracy: 0.9368\n",
      "Epoch 12/15\n",
      "285/285 [==============================] - 2s 5ms/step - loss: 0.0218 - accuracy: 0.9749 - val_loss: 0.0463 - val_accuracy: 0.9437\n",
      "Epoch 13/15\n",
      "285/285 [==============================] - 2s 6ms/step - loss: 0.0209 - accuracy: 0.9754 - val_loss: 0.0527 - val_accuracy: 0.9377\n",
      "Epoch 14/15\n",
      "285/285 [==============================] - 1s 5ms/step - loss: 0.0196 - accuracy: 0.9781 - val_loss: 0.0533 - val_accuracy: 0.9358\n",
      "Epoch 15/15\n",
      "285/285 [==============================] - 2s 6ms/step - loss: 0.0188 - accuracy: 0.9786 - val_loss: 0.0537 - val_accuracy: 0.9358\n",
      "32/32 [==============================] - 0s 3ms/step\n",
      "[[111  51]\n",
      " [ 14 836]]\n",
      "              precision    recall  f1-score   support\n",
      "\n",
      "           0       0.89      0.69      0.77       162\n",
      "           1       0.94      0.98      0.96       850\n",
      "\n",
      "    accuracy                           0.94      1012\n",
      "   macro avg       0.92      0.83      0.87      1012\n",
      "weighted avg       0.93      0.94      0.93      1012\n",
      "\n"
     ]
    }
   ],
   "source": [
    "# merge the deep branches together\n",
    "deep_branch = concatenate(all_deep_branch_outputs,name='concat_embeds')\n",
    "deep_branch = Dense(units=500,activation='relu', name='deep1')(deep_branch)\n",
    "deep_branch = Dense(units=250,activation='relu', name='deep2')(deep_branch)\n",
    "    \n",
    "# merge the deep and wide branch\n",
    "final_branch = concatenate([wide_branch, deep_branch],\n",
    "                           name='concat_deep_wide')\n",
    "final_branch = Dense(units=1,activation='sigmoid',\n",
    "                     name='combined')(final_branch)\n",
    "\n",
    "model = Model(inputs=[input_crossed,input_cat,input_num], \n",
    "              outputs=final_branch)\n",
    "\n",
    "\n",
    "model.compile(optimizer='adam',\n",
    "              loss='mean_squared_error',\n",
    "              metrics=['accuracy'])\n",
    "\n",
    "# lets also add the history variable to see how we are doing\n",
    "# and lets add a validation set to keep track of our progress\n",
    "history2 = model.fit([X_train_crossed,X_train_cat,X_train_num],\n",
    "                    y_train, \n",
    "                    epochs=15, \n",
    "                    batch_size=32, \n",
    "                    verbose=1, \n",
    "                    validation_data = ([X_test_crossed,X_test_cat,X_test_num],y_test))\n",
    "\n",
    "yhat = np.round(model.predict([X_test_crossed,X_test_cat,X_test_num]))\n",
    "print(mt.confusion_matrix(y_test,yhat))\n",
    "print(mt.classification_report(y_test,yhat))"
   ]
  },
  {
   "cell_type": "code",
   "execution_count": 49,
   "id": "1a65d566-241f-4b60-ba20-f2350b9424e4",
   "metadata": {
    "tags": []
   },
   "outputs": [
    {
     "data": {
      "text/plain": [
       "(0.0, 0.25)"
      ]
     },
     "execution_count": 49,
     "metadata": {},
     "output_type": "execute_result"
    },
    {
     "data": {
      "image/png": "[encoded data removed]",
      "text/plain": [
       "<Figure size 1000x400 with 4 Axes>"
      ]
     },
     "metadata": {},
     "output_type": "display_data"
    }
   ],
   "source": [
    "%matplotlib inline\n",
    "\n",
    "plt.figure(figsize=(10,4))\n",
    "plt.subplot(2,2,1)\n",
    "plt.plot(history2.history['accuracy'])\n",
    "plt.ylim([0.8,1])\n",
    "\n",
    "plt.ylabel('Accuracy %')\n",
    "plt.title('Training')\n",
    "plt.subplot(2,2,2)\n",
    "plt.plot(history2.history['val_accuracy'])\n",
    "plt.title('Validation')\n",
    "plt.ylim([0.8,1])\n",
    "\n",
    "plt.subplot(2,2,3)\n",
    "plt.plot(history2.history['loss'])\n",
    "plt.ylabel('Training Loss')\n",
    "plt.xlabel('epochs')\n",
    "plt.ylim([0,0.25])\n",
    "\n",
    "plt.subplot(2,2,4)\n",
    "plt.plot(history2.history['val_loss'])\n",
    "plt.xlabel('epochs')\n",
    "plt.ylim([0,0.25])"
   ]
  },
  {
   "cell_type": "markdown",
   "id": "67152d0e-92cc-434d-b349-56d0cba96696",
   "metadata": {},
   "source": [
    "### Comparison to Model Without Wide Branch"
   ]
  },
  {
   "cell_type": "code",
   "execution_count": 50,
   "id": "367fafd8-594a-4975-b06e-d33ef6d2a840",
   "metadata": {
    "tags": []
   },
   "outputs": [
    {
     "name": "stdout",
     "output_type": "stream",
     "text": [
      "Epoch 1/15\n",
      "285/285 [==============================] - 4s 6ms/step - loss: 0.0565 - accuracy: 0.9272 - val_loss: 0.0464 - val_accuracy: 0.9417\n",
      "Epoch 2/15\n",
      "285/285 [==============================] - 2s 5ms/step - loss: 0.0421 - accuracy: 0.9438 - val_loss: 0.0384 - val_accuracy: 0.9506\n",
      "Epoch 3/15\n",
      "285/285 [==============================] - 1s 5ms/step - loss: 0.0375 - accuracy: 0.9500 - val_loss: 0.0423 - val_accuracy: 0.9417\n",
      "Epoch 4/15\n",
      "285/285 [==============================] - 2s 6ms/step - loss: 0.0355 - accuracy: 0.9528 - val_loss: 0.0408 - val_accuracy: 0.9417\n",
      "Epoch 5/15\n",
      "285/285 [==============================] - 1s 5ms/step - loss: 0.0325 - accuracy: 0.9582 - val_loss: 0.0410 - val_accuracy: 0.9447\n",
      "Epoch 6/15\n",
      "285/285 [==============================] - 2s 6ms/step - loss: 0.0312 - accuracy: 0.9605 - val_loss: 0.0394 - val_accuracy: 0.9476\n",
      "Epoch 7/15\n",
      "285/285 [==============================] - 1s 5ms/step - loss: 0.0286 - accuracy: 0.9638 - val_loss: 0.0397 - val_accuracy: 0.9516\n",
      "Epoch 8/15\n",
      "285/285 [==============================] - 2s 7ms/step - loss: 0.0277 - accuracy: 0.9657 - val_loss: 0.0441 - val_accuracy: 0.9427\n",
      "Epoch 9/15\n",
      "285/285 [==============================] - 2s 5ms/step - loss: 0.0249 - accuracy: 0.9686 - val_loss: 0.0410 - val_accuracy: 0.9516\n",
      "Epoch 10/15\n",
      "285/285 [==============================] - 2s 6ms/step - loss: 0.0233 - accuracy: 0.9721 - val_loss: 0.0400 - val_accuracy: 0.9476\n",
      "Epoch 11/15\n",
      "285/285 [==============================] - 1s 5ms/step - loss: 0.0230 - accuracy: 0.9726 - val_loss: 0.0427 - val_accuracy: 0.9427\n",
      "Epoch 12/15\n",
      "285/285 [==============================] - 1s 5ms/step - loss: 0.0213 - accuracy: 0.9742 - val_loss: 0.0411 - val_accuracy: 0.9486\n",
      "Epoch 13/15\n",
      "285/285 [==============================] - 2s 7ms/step - loss: 0.0193 - accuracy: 0.9773 - val_loss: 0.0433 - val_accuracy: 0.9447\n",
      "Epoch 14/15\n",
      "285/285 [==============================] - 1s 5ms/step - loss: 0.0177 - accuracy: 0.9797 - val_loss: 0.0432 - val_accuracy: 0.9476\n",
      "Epoch 15/15\n",
      "285/285 [==============================] - 2s 7ms/step - loss: 0.0176 - accuracy: 0.9805 - val_loss: 0.0453 - val_accuracy: 0.9447\n",
      "32/32 [==============================] - 0s 3ms/step\n",
      "[[134  28]\n",
      " [ 28 822]]\n",
      "              precision    recall  f1-score   support\n",
      "\n",
      "           0       0.83      0.83      0.83       162\n",
      "           1       0.97      0.97      0.97       850\n",
      "\n",
      "    accuracy                           0.94      1012\n",
      "   macro avg       0.90      0.90      0.90      1012\n",
      "weighted avg       0.94      0.94      0.94      1012\n",
      "\n"
     ]
    }
   ],
   "source": [
    "# merge the deep branches together\n",
    "deep_branch = concatenate(all_deep_branch_outputs,name='concat_embeds')\n",
    "deep_branch = Dense(units=500,activation='relu', name='deep1')(deep_branch)\n",
    "deep_branch = Dense(units=250,activation='relu', name='deep2')(deep_branch)\n",
    "    \n",
    "# merge the deep and wide branch\n",
    "final_branch = concatenate([deep_branch],\n",
    "                           name='deep')\n",
    "final_branch = Dense(units=1,activation='sigmoid',\n",
    "                     name='combined')(final_branch)\n",
    "\n",
    "model = Model(inputs=[input_crossed,input_cat,input_num], \n",
    "              outputs=final_branch)\n",
    "\n",
    "\n",
    "model.compile(optimizer='adam',\n",
    "              loss='mean_squared_error',\n",
    "              metrics=['accuracy'])\n",
    "\n",
    "# lets also add the history variable to see how we are doing\n",
    "# and lets add a validation set to keep track of our progress\n",
    "history3 = model.fit([X_train_crossed,X_train_cat,X_train_num],\n",
    "                    y_train, \n",
    "                    epochs=15, \n",
    "                    batch_size=32, \n",
    "                    verbose=1, \n",
    "                    validation_data = ([X_test_crossed,X_test_cat,X_test_num],y_test))\n",
    "\n",
    "yhat = np.round(model.predict([X_test_crossed,X_test_cat,X_test_num]))\n",
    "print(mt.confusion_matrix(y_test,yhat))\n",
    "print(mt.classification_report(y_test,yhat))"
   ]
  },
  {
   "cell_type": "code",
   "execution_count": 51,
   "id": "7144cd0c-c79f-4b28-8a16-5ccc0c26fd63",
   "metadata": {
    "tags": []
   },
   "outputs": [
    {
     "data": {
      "text/plain": [
       "(0.0, 0.25)"
      ]
     },
     "execution_count": 51,
     "metadata": {},
     "output_type": "execute_result"
    },
    {
     "data": {
      "image/png": "[encoded data removed]",
      "text/plain": [
       "<Figure size 1000x400 with 4 Axes>"
      ]
     },
     "metadata": {},
     "output_type": "display_data"
    }
   ],
   "source": [
    "%matplotlib inline\n",
    "\n",
    "plt.figure(figsize=(10,4))\n",
    "plt.subplot(2,2,1)\n",
    "plt.plot(history1.history['accuracy'])\n",
    "plt.plot(history3.history['accuracy'])\n",
    "plt.legend([\"With Wide Branch\",\"Without Wide Branch\"])\n",
    "plt.ylim([0.8,1])\n",
    "\n",
    "plt.ylabel('Accuracy %')\n",
    "plt.title('Training')\n",
    "plt.subplot(2,2,2)\n",
    "plt.plot(history1.history['val_accuracy'])\n",
    "plt.plot(history3.history['val_accuracy'])\n",
    "plt.legend([\"With Wide Branch\",\"Without Wide Branch\"])\n",
    "plt.title('Validation')\n",
    "plt.ylim([0.8,1])\n",
    "\n",
    "plt.subplot(2,2,3)\n",
    "plt.plot(history1.history['loss'])\n",
    "plt.plot(history3.history['loss'])\n",
    "plt.legend([\"With Wide Branch\",\"Without Wide Branch\"])\n",
    "plt.ylabel('Training Loss')\n",
    "plt.xlabel('epochs')\n",
    "plt.ylim([0,0.25])\n",
    "\n",
    "plt.subplot(2,2,4)\n",
    "plt.plot(history1.history['val_loss'])\n",
    "plt.plot(history3.history['val_loss'])\n",
    "plt.legend([\"With Wide Branch\",\"Without Wide Branch\"])\n",
    "plt.xlabel('epochs')\n",
    "plt.ylim([0,0.25])"
   ]
  },
  {
   "cell_type": "markdown",
   "id": "e7ea296a-25ca-46cb-8ac6-af8181debc13",
   "metadata": {},
   "source": [
    "## Exceptional Work (1 points total)\n",
    "(0.4) The overall quality of the report as a coherent, useful, complete and polished product will be reflected here. Did you support your reasons for creating cross categories? Did you include plots and provide interpretation? Did you justify your choice of metrics?\n",
    "\n",
    "(0.6) Additional analysis\n",
    "\n",
    "(5000 level) You have free rein to provide any additional analyses and visualizations appropriate to your data.  Implement additional optimization models or statistical analysis.\n",
    "\n",
    " ( 7000 level students - options):\n",
    "Capture the embedding weights from the deep network and (if needed) perform dimensionality reduction on the output of these embedding layers (only if needed). That is, pass the observations into the network, save the embedded weights (called embeddings), and then perform  dimensionality reduction in order to visualize results. Visualize and explain any clusters in the data.\n",
    "\n",
    "Use statistical methods to compare the performance of different models.  For classification tasks, you ight compare using the receiver operating characteristic and area under the curve. For regression tasks, you might use use Bland-Altman plots and residual variance calculations"
   ]
  },
  {
   "cell_type": "code",
   "execution_count": null,
   "id": "705bbc09-fc32-4065-ab41-d3bb59cb6323",
   "metadata": {},
   "outputs": [],
   "source": []
  }
 ],
 "metadata": {
  "kernelspec": {
   "display_name": "Python 3 (ipykernel)",
   "language": "python",
   "name": "python3"
  },
  "language_info": {
   "codemirror_mode": {
    "name": "ipython",
    "version": 3
   },
   "file_extension": ".py",
   "mimetype": "text/x-python",
   "name": "python",
   "nbconvert_exporter": "python",
   "pygments_lexer": "ipython3",
   "version": "3.9.13"
  }
 },
 "nbformat": 4,
 "nbformat_minor": 5
}
